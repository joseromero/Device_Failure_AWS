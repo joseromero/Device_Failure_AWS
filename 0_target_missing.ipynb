{
 "cells": [
  {
   "cell_type": "markdown",
   "metadata": {},
   "source": [
    "# Target and Missing Values Analysis\n",
    "\n",
    "In this step we will have a deeper understanding of the target variable and the missing values present in the data."
   ]
  },
  {
   "cell_type": "code",
   "execution_count": 1,
   "metadata": {},
   "outputs": [],
   "source": [
    "# Import Required Libraries\n",
    "import pandas as pd\n",
    "import numpy as np\n",
    "import seaborn as sns\n",
    "import matplotlib.pyplot as plt\n",
    "\n",
    "from toolkit import Viz, Tools, PF"
   ]
  },
  {
   "cell_type": "code",
   "execution_count": 2,
   "metadata": {},
   "outputs": [],
   "source": [
    "# Pre configure modules\n",
    "sns.set()"
   ]
  },
  {
   "cell_type": "code",
   "execution_count": 3,
   "metadata": {},
   "outputs": [],
   "source": [
    "# Get data\n",
    "data, target_col, cat_cols, num_cols = PF.import_data()\n",
    "X, y = data[cat_cols + num_cols], data[target_col]"
   ]
  },
  {
   "cell_type": "markdown",
   "metadata": {},
   "source": [
    "---\n",
    "## Target"
   ]
  },
  {
   "cell_type": "code",
   "execution_count": 23,
   "metadata": {},
   "outputs": [
    {
     "data": {
      "text/html": [
       "<div>\n",
       "<style scoped>\n",
       "    .dataframe tbody tr th:only-of-type {\n",
       "        vertical-align: middle;\n",
       "    }\n",
       "\n",
       "    .dataframe tbody tr th {\n",
       "        vertical-align: top;\n",
       "    }\n",
       "\n",
       "    .dataframe thead th {\n",
       "        text-align: right;\n",
       "    }\n",
       "</style>\n",
       "<table border=\"1\" class=\"dataframe\">\n",
       "  <thead>\n",
       "    <tr style=\"text-align: right;\">\n",
       "      <th></th>\n",
       "      <th>cnt</th>\n",
       "      <th>pct</th>\n",
       "    </tr>\n",
       "  </thead>\n",
       "  <tbody>\n",
       "    <tr>\n",
       "      <td>0</td>\n",
       "      <td>124387</td>\n",
       "      <td>0.999149</td>\n",
       "    </tr>\n",
       "    <tr>\n",
       "      <td>1</td>\n",
       "      <td>106</td>\n",
       "      <td>0.000851</td>\n",
       "    </tr>\n",
       "  </tbody>\n",
       "</table>\n",
       "</div>"
      ],
      "text/plain": [
       "      cnt       pct\n",
       "0  124387  0.999149\n",
       "1     106  0.000851"
      ]
     },
     "execution_count": 23,
     "metadata": {},
     "output_type": "execute_result"
    }
   ],
   "source": [
    "# Calculate target proportions\n",
    "target_prop = pd.concat([y.value_counts(), y.value_counts(normalize=True)], axis=1)\n",
    "target_prop.columns = ['cnt', 'pct']\n",
    "target_prop"
   ]
  },
  {
   "cell_type": "markdown",
   "metadata": {},
   "source": [
    "## Target Conclusions\n",
    "Imbalance\n",
    "- Target variable is highly unbalanced with a 999:1 ratio.\n",
    "- In order to prevent model to ignore failure patterns. Sampling strategy must be followed.\n",
    "\n",
    "\n",
    "Sampling Strategy\n",
    "- Oversampling by itself can oversaturate data with redundant information from failing devices.\n",
    "- Under sampling on the other hand may remove important information from non failing (ok) devices.\n",
    "- Mixing under sampling with bagging (ensemble models) may have a good result. Sampling for each estimator must follow a under sampling strategy. \n",
    "\n",
    "\n",
    "Model Requirements\n",
    "- Best to use estimators that supports probability outcomes (logistic regression, decision trees) to keep a threshold control to optimize results.\n",
    "- Accuracy isn't a good metric to track for. F1-score and AUROC metrics will guide a better reduction of FN and FP."
   ]
  },
  {
   "cell_type": "markdown",
   "metadata": {},
   "source": [
    "---\n",
    "## Missing Values\n",
    "\n",
    "### Zero Dense Metrics\n",
    "- There are zero dense metrics (M2, M3, M4, M7, M8, M9). Where zero values represent more than 90% of metric's data in most cases and 78% for M9."
   ]
  },
  {
   "cell_type": "code",
   "execution_count": 6,
   "metadata": {},
   "outputs": [
    {
     "data": {
      "image/png": "[encoded data removed]",
      "text/plain": [
       "<Figure size 1440x360 with 1 Axes>"
      ]
     },
     "metadata": {},
     "output_type": "display_data"
    },
    {
     "data": {
      "text/html": [
       "<div>\n",
       "<style scoped>\n",
       "    .dataframe tbody tr th:only-of-type {\n",
       "        vertical-align: middle;\n",
       "    }\n",
       "\n",
       "    .dataframe tbody tr th {\n",
       "        vertical-align: top;\n",
       "    }\n",
       "\n",
       "    .dataframe thead th {\n",
       "        text-align: right;\n",
       "    }\n",
       "</style>\n",
       "<table border=\"1\" class=\"dataframe\">\n",
       "  <thead>\n",
       "    <tr style=\"text-align: right;\">\n",
       "      <th></th>\n",
       "      <th>m1</th>\n",
       "      <th>m2</th>\n",
       "      <th>m3</th>\n",
       "      <th>m4</th>\n",
       "      <th>m5</th>\n",
       "      <th>m6</th>\n",
       "      <th>m7</th>\n",
       "      <th>m8</th>\n",
       "      <th>m9</th>\n",
       "    </tr>\n",
       "    <tr>\n",
       "      <th>failure</th>\n",
       "      <th></th>\n",
       "      <th></th>\n",
       "      <th></th>\n",
       "      <th></th>\n",
       "      <th></th>\n",
       "      <th></th>\n",
       "      <th></th>\n",
       "      <th></th>\n",
       "      <th></th>\n",
       "    </tr>\n",
       "  </thead>\n",
       "  <tbody>\n",
       "    <tr>\n",
       "      <td>0</td>\n",
       "      <td>0.01</td>\n",
       "      <td>94.91</td>\n",
       "      <td>92.66</td>\n",
       "      <td>92.54</td>\n",
       "      <td>0</td>\n",
       "      <td>0</td>\n",
       "      <td>98.86</td>\n",
       "      <td>98.86</td>\n",
       "      <td>78.21</td>\n",
       "    </tr>\n",
       "    <tr>\n",
       "      <td>1</td>\n",
       "      <td>0.00</td>\n",
       "      <td>54.72</td>\n",
       "      <td>89.62</td>\n",
       "      <td>41.51</td>\n",
       "      <td>0</td>\n",
       "      <td>0</td>\n",
       "      <td>63.21</td>\n",
       "      <td>63.21</td>\n",
       "      <td>71.70</td>\n",
       "    </tr>\n",
       "  </tbody>\n",
       "</table>\n",
       "</div>"
      ],
      "text/plain": [
       "           m1     m2     m3     m4  m5  m6     m7     m8     m9\n",
       "failure                                                        \n",
       "0        0.01  94.91  92.66  92.54   0   0  98.86  98.86  78.21\n",
       "1        0.00  54.72  89.62  41.51   0   0  63.21  63.21  71.70"
      ]
     },
     "execution_count": 6,
     "metadata": {},
     "output_type": "execute_result"
    }
   ],
   "source": [
    "# Check for zero value proportion by target\n",
    "zero_pct = Tools.get_percentage(data[num_cols], y, values=[0])\n",
    "mzero_pct = zero_pct.reset_index().melt(id_vars=target_col ,value_vars=num_cols, var_name='m', value_name='zero pct')\n",
    "sns.barplot(x='m', y='zero pct', hue=target_col, data=mzero_pct, ax=Viz.get_figure(1))\n",
    "plt.show()\n",
    "zero_pct"
   ]
  },
  {
   "cell_type": "markdown",
   "metadata": {},
   "source": [
    "#### Effect of Zero Dense Metrics\n",
    "- Zero dense metrics adds huge amount of noise in further analysis. It fully changes mean and std for instance. \n",
    "- As you can see down below. We will compare each metric's mean and std with and without removing zero noise.\n",
    "- Notice how these values have are extremely different for zero dense metrics.\n",
    "- Focus on M2, M3, M4, M7, M8, M9 columns"
   ]
  },
  {
   "cell_type": "code",
   "execution_count": 17,
   "metadata": {
    "scrolled": false
   },
   "outputs": [
    {
     "data": {
      "text/html": [
       "<div>\n",
       "<style scoped>\n",
       "    .dataframe tbody tr th:only-of-type {\n",
       "        vertical-align: middle;\n",
       "    }\n",
       "\n",
       "    .dataframe tbody tr th {\n",
       "        vertical-align: top;\n",
       "    }\n",
       "\n",
       "    .dataframe thead th {\n",
       "        text-align: right;\n",
       "    }\n",
       "</style>\n",
       "<table border=\"1\" class=\"dataframe\">\n",
       "  <thead>\n",
       "    <tr style=\"text-align: right;\">\n",
       "      <th></th>\n",
       "      <th></th>\n",
       "      <th>m1</th>\n",
       "      <th>m2</th>\n",
       "      <th>m3</th>\n",
       "      <th>m4</th>\n",
       "      <th>m5</th>\n",
       "      <th>m6</th>\n",
       "      <th>m7</th>\n",
       "      <th>m8</th>\n",
       "      <th>m9</th>\n",
       "    </tr>\n",
       "    <tr>\n",
       "      <th>failure</th>\n",
       "      <th></th>\n",
       "      <th></th>\n",
       "      <th></th>\n",
       "      <th></th>\n",
       "      <th></th>\n",
       "      <th></th>\n",
       "      <th></th>\n",
       "      <th></th>\n",
       "      <th></th>\n",
       "      <th></th>\n",
       "    </tr>\n",
       "  </thead>\n",
       "  <tbody>\n",
       "    <tr>\n",
       "      <td rowspan=\"4\" valign=\"top\">0</td>\n",
       "      <td>mean</td>\n",
       "      <td>1.223835e+08</td>\n",
       "      <td>156.119980</td>\n",
       "      <td>9.945678</td>\n",
       "      <td>1.696061</td>\n",
       "      <td>14.221663</td>\n",
       "      <td>260174.624213</td>\n",
       "      <td>0.266684</td>\n",
       "      <td>0.266684</td>\n",
       "      <td>12.442562</td>\n",
       "    </tr>\n",
       "    <tr>\n",
       "      <td>mean_nz</td>\n",
       "      <td>1.223943e+08</td>\n",
       "      <td>3064.914141</td>\n",
       "      <td>135.588886</td>\n",
       "      <td>22.743424</td>\n",
       "      <td>14.221663</td>\n",
       "      <td>260174.624213</td>\n",
       "      <td>23.377026</td>\n",
       "      <td>23.377026</td>\n",
       "      <td>57.097801</td>\n",
       "    </tr>\n",
       "    <tr>\n",
       "      <td>std</td>\n",
       "      <td>7.046037e+07</td>\n",
       "      <td>2145.530544</td>\n",
       "      <td>185.824848</td>\n",
       "      <td>22.164404</td>\n",
       "      <td>15.943435</td>\n",
       "      <td>99148.154087</td>\n",
       "      <td>6.558098</td>\n",
       "      <td>6.558098</td>\n",
       "      <td>191.455782</td>\n",
       "    </tr>\n",
       "    <tr>\n",
       "      <td>std_nz</td>\n",
       "      <td>7.045408e+07</td>\n",
       "      <td>9025.960125</td>\n",
       "      <td>673.622796</td>\n",
       "      <td>78.163315</td>\n",
       "      <td>15.943435</td>\n",
       "      <td>99148.154087</td>\n",
       "      <td>56.851186</td>\n",
       "      <td>56.851186</td>\n",
       "      <td>407.017197</td>\n",
       "    </tr>\n",
       "    <tr>\n",
       "      <td rowspan=\"4\" valign=\"top\">1</td>\n",
       "      <td>mean</td>\n",
       "      <td>1.271755e+08</td>\n",
       "      <td>4109.433962</td>\n",
       "      <td>3.905660</td>\n",
       "      <td>54.632075</td>\n",
       "      <td>15.462264</td>\n",
       "      <td>258303.481132</td>\n",
       "      <td>30.622642</td>\n",
       "      <td>30.622642</td>\n",
       "      <td>23.084906</td>\n",
       "    </tr>\n",
       "    <tr>\n",
       "      <td>mean_nz</td>\n",
       "      <td>1.271755e+08</td>\n",
       "      <td>9075.000000</td>\n",
       "      <td>37.636364</td>\n",
       "      <td>93.403226</td>\n",
       "      <td>15.462264</td>\n",
       "      <td>258303.481132</td>\n",
       "      <td>83.230769</td>\n",
       "      <td>83.230769</td>\n",
       "      <td>81.566667</td>\n",
       "    </tr>\n",
       "    <tr>\n",
       "      <td>std</td>\n",
       "      <td>6.940167e+07</td>\n",
       "      <td>12803.747239</td>\n",
       "      <td>31.557213</td>\n",
       "      <td>193.492528</td>\n",
       "      <td>15.547270</td>\n",
       "      <td>103349.308593</td>\n",
       "      <td>117.033610</td>\n",
       "      <td>117.033610</td>\n",
       "      <td>153.449984</td>\n",
       "    </tr>\n",
       "    <tr>\n",
       "      <td>std_nz</td>\n",
       "      <td>6.940167e+07</td>\n",
       "      <td>17894.652409</td>\n",
       "      <td>95.184319</td>\n",
       "      <td>246.503713</td>\n",
       "      <td>15.547270</td>\n",
       "      <td>103349.308593</td>\n",
       "      <td>182.627383</td>\n",
       "      <td>182.627383</td>\n",
       "      <td>283.410228</td>\n",
       "    </tr>\n",
       "  </tbody>\n",
       "</table>\n",
       "</div>"
      ],
      "text/plain": [
       "                           m1            m2          m3          m4  \\\n",
       "failure                                                               \n",
       "0       mean     1.223835e+08    156.119980    9.945678    1.696061   \n",
       "        mean_nz  1.223943e+08   3064.914141  135.588886   22.743424   \n",
       "        std      7.046037e+07   2145.530544  185.824848   22.164404   \n",
       "        std_nz   7.045408e+07   9025.960125  673.622796   78.163315   \n",
       "1       mean     1.271755e+08   4109.433962    3.905660   54.632075   \n",
       "        mean_nz  1.271755e+08   9075.000000   37.636364   93.403226   \n",
       "        std      6.940167e+07  12803.747239   31.557213  193.492528   \n",
       "        std_nz   6.940167e+07  17894.652409   95.184319  246.503713   \n",
       "\n",
       "                        m5             m6          m7          m8          m9  \n",
       "failure                                                                        \n",
       "0       mean     14.221663  260174.624213    0.266684    0.266684   12.442562  \n",
       "        mean_nz  14.221663  260174.624213   23.377026   23.377026   57.097801  \n",
       "        std      15.943435   99148.154087    6.558098    6.558098  191.455782  \n",
       "        std_nz   15.943435   99148.154087   56.851186   56.851186  407.017197  \n",
       "1       mean     15.462264  258303.481132   30.622642   30.622642   23.084906  \n",
       "        mean_nz  15.462264  258303.481132   83.230769   83.230769   81.566667  \n",
       "        std      15.547270  103349.308593  117.033610  117.033610  153.449984  \n",
       "        std_nz   15.547270  103349.308593  182.627383  182.627383  283.410228  "
      ]
     },
     "execution_count": 17,
     "metadata": {},
     "output_type": "execute_result"
    }
   ],
   "source": [
    "# Check for non zero mean and std on all metrics separated by target\n",
    "def mean_nz(c): return c[c > 0].mean()\n",
    "def std_nz(c): return c[c > 0].std()\n",
    "\n",
    "m_nzstats = data[num_cols + [target_col]].groupby(target_col)\n",
    "m_nzstats = m_nzstats.agg([mean_nz, std_nz])\n",
    "\n",
    "# Check for mean and std on all metrics separated by target\n",
    "m_stats = data[num_cols + [target_col]].groupby(target_col)\n",
    "m_stats = m_stats.agg(['mean', 'std'])\n",
    "\n",
    "pd.concat([m_nzstats.stack(), m_stats.stack()]).sort_index()"
   ]
  },
  {
   "cell_type": "markdown",
   "metadata": {},
   "source": [
    "### Full Zeros\n",
    "- Now, let's check for this zero dense columns, what proportion of the instances have only zero across all of them.\n",
    "- This will help us identify which instances have low quality information. Since they can bias or model when training."
   ]
  },
  {
   "cell_type": "code",
   "execution_count": 20,
   "metadata": {},
   "outputs": [
    {
     "data": {
      "image/png": "[encoded data removed]",
      "text/plain": [
       "<Figure size 1440x360 with 1 Axes>"
      ]
     },
     "metadata": {},
     "output_type": "display_data"
    }
   ],
   "source": [
    "# Check proportion when all measures are zero by target\n",
    "zd_cols = ['m2', 'm3', 'm4', 'm7', 'm8', 'm9']\n",
    "full_zero = pd.DataFrame(data[zd_cols].sum(axis=1) == 0, columns=['f0'])\n",
    "zero_pct = Tools.get_percentage(full_zero, y, values=[True])\n",
    "mzero_pct = zero_pct.reset_index().melt(id_vars=target_col ,value_vars='f0', var_name='m', value_name='zero pct')\n",
    "sns.barplot(x='zero pct', y='m', hue=target_col, data=mzero_pct, orient='h', ax=Viz.get_figure(1))\n",
    "plt.show()"
   ]
  },
  {
   "cell_type": "markdown",
   "metadata": {},
   "source": [
    "### Full Zeros - Conclusion\n",
    "- Near 68% of all data has only zero values in zero dense metrics. That’s a lot of noise.\n",
    "- It is important to mark such rows (F0 mark), to guide a better sampling strategy in exploratory analysis and when building our model. This may help us reduce zero unnecessary noise and better highlight real patterns."
   ]
  },
  {
   "cell_type": "code",
   "execution_count": 22,
   "metadata": {},
   "outputs": [],
   "source": [
    "# Add full zero column to data\n",
    "f0_col = 'f0'\n",
    "if f0_col not in X.columns: X.insert(X.shape[1], 'f0', full_zero.astype(int))"
   ]
  },
  {
   "cell_type": "markdown",
   "metadata": {},
   "source": [
    "### Missing Values- Additional Comments\n",
    "#### Model Requirements\n",
    "- Since the amount of zero values is too big in most of the metrics (near 90%), trying to fill them by any strategy seems not really helpful. Instead, why not selectively reducing the zero noise when building our model? This will help us keep information as close to reality as possible. \n",
    "\n",
    "- When assembling the bagging model (discussed above), the full zero (F0) mark we just created can help us define a stratified under sampling strategy. This will help us control the amount of zero noise in each estimator in the bagg, preventing it from being overwhelmed by zero values."
   ]
  },
  {
   "cell_type": "markdown",
   "metadata": {},
   "source": [
    "---\n",
    "## Under sampling Strategy\n",
    "\n",
    "### Stratified Under sampling Concept\n",
    "\n",
    "Taking in consideration the conclusions from the previous section, we need to frame a under sampling strategy that:\n",
    "\n",
    "- Uses most of the available data in the whole dataset to avoid losing valuable information.\n",
    "- Help us selectively sample data (without affecting randomness) so that we can filter the amount of zero noise that enters to our model's training phase. This will grant us that the model is fed with mostly relevant information to effectively identify relevant patterns.\n",
    "\n",
    "Based on these requirements, the following figure illustrates the strategy to be followed:\n",
    "\n",
    "![Fig 1: Stratified Under Sample Strategy](images/Stratified_Undersample.png)\n",
    "\n",
    "As you can see the strategy is conformed of the following steps:\n",
    "\n",
    "- Define a **Strata** for each instance.\n",
    "    - **Strata 0:** Target = 0 (OK) and Full Zero Mark = 1 (Near to 67 % of data. Does not add much info since all zero dense metrics are 0)\n",
    "    - **Strata 1:** Target = 0 (OK) and Full Zero Mark = 0 (Near to 33 % of data. Adds important info for non failure patterns)\n",
    "    - **Strata 2:** Target = 1 (Fail, near 0.1 % of data. Is all available info for failure data.)\n",
    "- Define strata proportions in under sample.\n",
    "    - In this case the driver was the desired proportion for failing devices (Strata 2). We randomly chose 30% in under sample, since we want to let each under sample have a greater amount of strata 1 data as possible.\n",
    "    - This proportions can be tested later to get the best option.\n",
    "    - Note that each subsample is considerably smaller in proportion to original data. This must be taken care of by bagging model.\n",
    "- Define a bagging model.\n",
    "    - Bagging can compensate for the size reduction of under samples. The number of estimators in the model must try to cover as much original data as possible (mainly for strata 1).\n",
    "    - To ensure even more that most Strata 1 data is used. **Bootstrapping will be disabled**.\n",
    "    - Remember that this is an under-sample approach. This means that **all samples will have all Strata 2 data**. Think of it as if each estimator will try to analyze all failing data with a small view (perspective) of non-failing (ok) data.\n",
    "    - Is in the consolidation of all probabilities that will result in the best prediction (**knowledge of the crowds**).\n",
    "\n",
    "One consequence from this approach is that the new problem will be a multiclass problem, not a binary one, since the objective now will be to predict the strata instead of the target.\n",
    "\n",
    "- This means a couple of challenges when building, tuning and scoring the model. Each challenge will be assessed as is presented.\n",
    "- The transformation of probabilities to return to the original problem is straightforward. Just add Strata 0 and Strata 1 for Target 0 and all Strata 2 is Target 1."
   ]
  },
  {
   "cell_type": "markdown",
   "metadata": {},
   "source": [
    "### Getting data ready for Under sampling Strategy"
   ]
  },
  {
   "cell_type": "code",
   "execution_count": 24,
   "metadata": {},
   "outputs": [
    {
     "data": {
      "text/html": [
       "<div>\n",
       "<style scoped>\n",
       "    .dataframe tbody tr th:only-of-type {\n",
       "        vertical-align: middle;\n",
       "    }\n",
       "\n",
       "    .dataframe tbody tr th {\n",
       "        vertical-align: top;\n",
       "    }\n",
       "\n",
       "    .dataframe thead th {\n",
       "        text-align: right;\n",
       "    }\n",
       "</style>\n",
       "<table border=\"1\" class=\"dataframe\">\n",
       "  <thead>\n",
       "    <tr style=\"text-align: right;\">\n",
       "      <th></th>\n",
       "      <th>cnt</th>\n",
       "      <th>pct</th>\n",
       "    </tr>\n",
       "  </thead>\n",
       "  <tbody>\n",
       "    <tr>\n",
       "      <td>0</td>\n",
       "      <td>84452</td>\n",
       "      <td>0.678367</td>\n",
       "    </tr>\n",
       "    <tr>\n",
       "      <td>1</td>\n",
       "      <td>39935</td>\n",
       "      <td>0.320781</td>\n",
       "    </tr>\n",
       "    <tr>\n",
       "      <td>2</td>\n",
       "      <td>106</td>\n",
       "      <td>0.000851</td>\n",
       "    </tr>\n",
       "  </tbody>\n",
       "</table>\n",
       "</div>"
      ],
      "text/plain": [
       "     cnt       pct\n",
       "0  84452  0.678367\n",
       "1  39935  0.320781\n",
       "2    106  0.000851"
      ]
     },
     "execution_count": 24,
     "metadata": {},
     "output_type": "execute_result"
    }
   ],
   "source": [
    "# Calculating strata for original data\n",
    "strt = pd.Series([0] * X.shape[0], index=X.index)\n",
    "strt[(y == 0) & (X[f0_col] == 0)] = 1\n",
    "strt[(y == 1)] = 2\n",
    "\n",
    "# Calculate strata proportions\n",
    "strt_prop = pd.concat([strt.value_counts(), strt.value_counts(normalize=True)], axis=1)\n",
    "strt_prop.columns = ['cnt', 'pct']\n",
    "strt_prop"
   ]
  },
  {
   "cell_type": "markdown",
   "metadata": {},
   "source": [
    "#### Getting a stratified under sample\n",
    "\n",
    "The following functions were built on `Tools` class of **toolkit.py** to facilitate the definition of strata counts in a under sample and the execution of one if required (I encourage you to check it out!):\n",
    "\n",
    "```python\n",
    "def strat_undersample_counts(cls, strt, strata_p, cv=False):\n",
    "        \"\"\" Calculates number of instances per strata for a stratified undersample.\n",
    "        \"\"\"\n",
    "\n",
    "def stratified_undersample(cls, X, strt, strata_p, random_state=0):\n",
    "        \"\"\" Gets a stratified under sample for X based on strata proportions.\n",
    "        \"\"\"\n",
    "```"
   ]
  },
  {
   "cell_type": "code",
   "execution_count": 25,
   "metadata": {},
   "outputs": [],
   "source": [
    "# Getting a Stratified Under Sample\n",
    "strata_p = {0: 0.1, 1: 0.6, 2: 0.3}\n",
    "random_state = 0\n",
    "\n",
    "Xrs, strt_rs = Tools.stratified_undersample(X, strt, strata_p, random_state)\n",
    "yrs = y.loc[Xrs.index]"
   ]
  },
  {
   "cell_type": "code",
   "execution_count": 27,
   "metadata": {},
   "outputs": [
    {
     "data": {
      "text/plain": [
       "(353, 12)"
      ]
     },
     "execution_count": 27,
     "metadata": {},
     "output_type": "execute_result"
    }
   ],
   "source": [
    "# Check Undersample Dimensions\n",
    "Xrs.shape"
   ]
  },
  {
   "cell_type": "code",
   "execution_count": 28,
   "metadata": {},
   "outputs": [
    {
     "data": {
      "text/html": [
       "<div>\n",
       "<style scoped>\n",
       "    .dataframe tbody tr th:only-of-type {\n",
       "        vertical-align: middle;\n",
       "    }\n",
       "\n",
       "    .dataframe tbody tr th {\n",
       "        vertical-align: top;\n",
       "    }\n",
       "\n",
       "    .dataframe thead th {\n",
       "        text-align: right;\n",
       "    }\n",
       "</style>\n",
       "<table border=\"1\" class=\"dataframe\">\n",
       "  <thead>\n",
       "    <tr style=\"text-align: right;\">\n",
       "      <th></th>\n",
       "      <th>cnt</th>\n",
       "      <th>pct</th>\n",
       "    </tr>\n",
       "  </thead>\n",
       "  <tbody>\n",
       "    <tr>\n",
       "      <td>1</td>\n",
       "      <td>212</td>\n",
       "      <td>0.600567</td>\n",
       "    </tr>\n",
       "    <tr>\n",
       "      <td>2</td>\n",
       "      <td>106</td>\n",
       "      <td>0.300283</td>\n",
       "    </tr>\n",
       "    <tr>\n",
       "      <td>0</td>\n",
       "      <td>35</td>\n",
       "      <td>0.099150</td>\n",
       "    </tr>\n",
       "  </tbody>\n",
       "</table>\n",
       "</div>"
      ],
      "text/plain": [
       "   cnt       pct\n",
       "1  212  0.600567\n",
       "2  106  0.300283\n",
       "0   35  0.099150"
      ]
     },
     "execution_count": 28,
     "metadata": {},
     "output_type": "execute_result"
    }
   ],
   "source": [
    "# Check Undersample Strata Proportions\n",
    "strt_prop = pd.concat([strt_rs.value_counts(), strt_rs.value_counts(normalize=True)], axis=1)\n",
    "strt_prop.columns = ['cnt', 'pct']\n",
    "strt_prop"
   ]
  },
  {
   "cell_type": "code",
   "execution_count": 31,
   "metadata": {},
   "outputs": [
    {
     "data": {
      "text/html": [
       "<div>\n",
       "<style scoped>\n",
       "    .dataframe tbody tr th:only-of-type {\n",
       "        vertical-align: middle;\n",
       "    }\n",
       "\n",
       "    .dataframe tbody tr th {\n",
       "        vertical-align: top;\n",
       "    }\n",
       "\n",
       "    .dataframe thead th {\n",
       "        text-align: right;\n",
       "    }\n",
       "</style>\n",
       "<table border=\"1\" class=\"dataframe\">\n",
       "  <thead>\n",
       "    <tr style=\"text-align: right;\">\n",
       "      <th></th>\n",
       "      <th>cnt</th>\n",
       "      <th>pct</th>\n",
       "    </tr>\n",
       "  </thead>\n",
       "  <tbody>\n",
       "    <tr>\n",
       "      <td>0</td>\n",
       "      <td>247</td>\n",
       "      <td>0.699717</td>\n",
       "    </tr>\n",
       "    <tr>\n",
       "      <td>1</td>\n",
       "      <td>106</td>\n",
       "      <td>0.300283</td>\n",
       "    </tr>\n",
       "  </tbody>\n",
       "</table>\n",
       "</div>"
      ],
      "text/plain": [
       "   cnt       pct\n",
       "0  247  0.699717\n",
       "1  106  0.300283"
      ]
     },
     "execution_count": 31,
     "metadata": {},
     "output_type": "execute_result"
    }
   ],
   "source": [
    "# Check Undersample Target Proportions\n",
    "trgt_prop = pd.concat([yrs.value_counts(), yrs.value_counts(normalize=True)], axis=1)\n",
    "trgt_prop.columns = ['cnt', 'pct']\n",
    "trgt_prop"
   ]
  },
  {
   "cell_type": "markdown",
   "metadata": {},
   "source": [
    "## Under sampling - Conclusions\n",
    " \n",
    "Under sampling strategy\n",
    "- Under sample will always have all Strata 2 data. This Strata determines full under sample size.\n",
    "- Will use a Strata 0, Strata 1 ratio (15:85). This is the same proportion seen in failure devices when full zero mark is present. This will ensure a homogeneous under sample.\n",
    "- If zero noise is still an obstacle, Strata 0 proportion may be reduced. In general, different proportion combinations will be tested.\n",
    "- IMPORTANT: For data exploration, working with a single sample may bias conclusions since much information for non-failure devices (ok) is omitted. But it will help focus on failing devices patterns.\n",
    "\n",
    "Model Prerequisites\n",
    "-Stratified under sampling strategy will be followed for estimators in bagging model.\n",
    "- A coherent number of estimators will compensate the under sampling effect on non-failing devices (ok) information.\n",
    "- The Knowledge of Crowds principle will be leveraged by this sampling strategy."
   ]
  }
 ],
 "metadata": {
  "kernelspec": {
   "display_name": "Python 3.7.4 64-bit ('python3-ds-learn': venv)",
   "language": "python",
   "name": "python37464bitpython3dslearnvenv6feb98fe22194ae68494bf2eebe2c2da"
  },
  "language_info": {
   "codemirror_mode": {
    "name": "ipython",
    "version": 3
   },
   "file_extension": ".py",
   "mimetype": "text/x-python",
   "name": "python",
   "nbconvert_exporter": "python",
   "pygments_lexer": "ipython3",
   "version": "3.7.4"
  }
 },
 "nbformat": 4,
 "nbformat_minor": 2
}
