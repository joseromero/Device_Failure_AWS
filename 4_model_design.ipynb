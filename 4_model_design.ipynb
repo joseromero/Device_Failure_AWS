{
 "cells": [
  {
   "cell_type": "markdown",
   "metadata": {},
   "source": [
    "# Model Design\n",
    "\n",
    "In this step we will analyse different candidates for bagging model ensemble. This will consider logistic regression estimators, tree estimators (random forest), and adaboost estimators.\n",
    "\n",
    "Additonaly we will test if stratified undersampling is a better approach, or if we must just do simple undersampling.\n",
    "\n",
    "All models will have soft predictions. This means that probabilities will be requested instead of hard predictions.\n",
    "Additionally all candidates will be configured for no bootstrapping.\n",
    "\n",
    "In synthesis we will evaluate six different candidates.\n",
    "\n",
    "- **Candidate 1:** Bagging with Logistic Estimators on Stratified Undersampling Samples.\n",
    "- **Candidate 2:** Bagging with Logistic Estimators on Regular Undersampling Samples.\n",
    "- **Candidate 3:** Random Forest on Stratified Undersampling Samples.\n",
    "- **Candidate 4:** Random Forest on Regular Undersampling Samples.\n",
    "- **Candidate 5:** Bagging with AdaBoost Estimators on Stratified Undersampling Samples.\n",
    "- **Candidate 6:** Bagging with AdaBoost Estimators on Regular Undersampling Samples.\n",
    "\n",
    "This estimator candidates where selected to try different approaches and granting that estimators can return a probability prediction rather that a hard prediction. I'm aware there are additional options to consider, but for now seems a good starting point.\n"
   ]
  },
  {
   "cell_type": "code",
   "execution_count": 1,
   "metadata": {},
   "outputs": [],
   "source": [
    "# Import Required Libraries\n",
    "import pandas as pd\n",
    "import numpy as np\n",
    "import seaborn as sns\n",
    "import matplotlib.pyplot as plt\n",
    "import warnings\n",
    "\n",
    "from toolkit import Viz, Tools, PF\n",
    "\n",
    "from sklearn.model_selection import train_test_split\n",
    "from sklearn.metrics import confusion_matrix, f1_score, recall_score, precision_score, roc_auc_score\n",
    "\n",
    "from imblearn.ensemble import BalancedBaggingClassifier, BalancedRandomForestClassifier\n",
    "from sklearn.linear_model import LogisticRegression\n",
    "from sklearn.ensemble import AdaBoostClassifier\n",
    "from sklearn.tree import DecisionTreeClassifier\n",
    "\n",
    "# Pre configure modules\n",
    "warnings.filterwarnings('ignore')\n",
    "sns.set()\n",
    "random_state=42"
   ]
  },
  {
   "cell_type": "code",
   "execution_count": 2,
   "metadata": {},
   "outputs": [],
   "source": [
    "# Function to reset data to original structures. With new features added. Tranform numeric features when needed.\n",
    "def reset_data(num_transform=True):\n",
    "    data, _, _, _ = PF.import_data()\n",
    "    X, y = data[PF.cat_cols + PF.num_cols], data[PF.target_col]\n",
    "    X = PF.add_features(X, y)\n",
    "    X = PF.prepare_features(X, num_transform=True)\n",
    "\n",
    "    strt = X[PF.strt_col]\n",
    "    X.drop(PF.cntr_cols, axis=1, inplace=True)\n",
    "\n",
    "    return data, X, y, strt\n",
    "\n",
    "# Get data\n",
    "data, X, y, strt = reset_data(num_transform=True)"
   ]
  },
  {
   "cell_type": "markdown",
   "metadata": {},
   "source": [
    "---\n",
    "## Model Prerequisites\n",
    "\n",
    "### Train / Test Split\n",
    "\n",
    "First we need to check if traditional train test split preserves strata proportions."
   ]
  },
  {
   "cell_type": "code",
   "execution_count": 3,
   "metadata": {},
   "outputs": [],
   "source": [
    "# Split data\n",
    "X_train, X_test, strt_train, strt_test = train_test_split(X, strt, test_size=.2, random_state=random_state)\n",
    "y_train, y_test = y[X_train.index], y[X_test.index]"
   ]
  },
  {
   "cell_type": "code",
   "execution_count": 4,
   "metadata": {},
   "outputs": [
    {
     "data": {
      "text/html": [
       "<div>\n",
       "<style scoped>\n",
       "    .dataframe tbody tr th:only-of-type {\n",
       "        vertical-align: middle;\n",
       "    }\n",
       "\n",
       "    .dataframe tbody tr th {\n",
       "        vertical-align: top;\n",
       "    }\n",
       "\n",
       "    .dataframe thead th {\n",
       "        text-align: right;\n",
       "    }\n",
       "</style>\n",
       "<table border=\"1\" class=\"dataframe\">\n",
       "  <thead>\n",
       "    <tr style=\"text-align: right;\">\n",
       "      <th></th>\n",
       "      <th>train cnt</th>\n",
       "      <th>train pct</th>\n",
       "      <th>test cnt</th>\n",
       "      <th>test pct</th>\n",
       "    </tr>\n",
       "  </thead>\n",
       "  <tbody>\n",
       "    <tr>\n",
       "      <td>0</td>\n",
       "      <td>99504</td>\n",
       "      <td>0.799955</td>\n",
       "      <td>24883</td>\n",
       "      <td>0.200045</td>\n",
       "    </tr>\n",
       "    <tr>\n",
       "      <td>1</td>\n",
       "      <td>90</td>\n",
       "      <td>0.849057</td>\n",
       "      <td>16</td>\n",
       "      <td>0.150943</td>\n",
       "    </tr>\n",
       "  </tbody>\n",
       "</table>\n",
       "</div>"
      ],
      "text/plain": [
       "   train cnt  train pct  test cnt  test pct\n",
       "0      99504   0.799955     24883  0.200045\n",
       "1         90   0.849057        16  0.150943"
      ]
     },
     "execution_count": 4,
     "metadata": {},
     "output_type": "execute_result"
    }
   ],
   "source": [
    "# Check the proportion of target within train / test sets.\n",
    "trgt_prop, trgt_cnt = pd.DataFrame(), y.value_counts()\n",
    "trgt_prop['train cnt'] = y_train.value_counts()\n",
    "trgt_prop['train pct'] = trgt_prop['train cnt'].div(trgt_cnt)\n",
    "trgt_prop['test cnt'] = y_test.value_counts()\n",
    "trgt_prop['test pct'] = trgt_prop['test cnt'].div(trgt_cnt)\n",
    "trgt_prop"
   ]
  },
  {
   "cell_type": "code",
   "execution_count": 5,
   "metadata": {},
   "outputs": [
    {
     "data": {
      "text/html": [
       "<div>\n",
       "<style scoped>\n",
       "    .dataframe tbody tr th:only-of-type {\n",
       "        vertical-align: middle;\n",
       "    }\n",
       "\n",
       "    .dataframe tbody tr th {\n",
       "        vertical-align: top;\n",
       "    }\n",
       "\n",
       "    .dataframe thead th {\n",
       "        text-align: right;\n",
       "    }\n",
       "</style>\n",
       "<table border=\"1\" class=\"dataframe\">\n",
       "  <thead>\n",
       "    <tr style=\"text-align: right;\">\n",
       "      <th></th>\n",
       "      <th>train cnt</th>\n",
       "      <th>train pct</th>\n",
       "      <th>test cnt</th>\n",
       "      <th>test pct</th>\n",
       "    </tr>\n",
       "  </thead>\n",
       "  <tbody>\n",
       "    <tr>\n",
       "      <td>0</td>\n",
       "      <td>67547</td>\n",
       "      <td>0.799827</td>\n",
       "      <td>16905</td>\n",
       "      <td>0.200173</td>\n",
       "    </tr>\n",
       "    <tr>\n",
       "      <td>1</td>\n",
       "      <td>31957</td>\n",
       "      <td>0.800225</td>\n",
       "      <td>7978</td>\n",
       "      <td>0.199775</td>\n",
       "    </tr>\n",
       "    <tr>\n",
       "      <td>2</td>\n",
       "      <td>90</td>\n",
       "      <td>0.849057</td>\n",
       "      <td>16</td>\n",
       "      <td>0.150943</td>\n",
       "    </tr>\n",
       "  </tbody>\n",
       "</table>\n",
       "</div>"
      ],
      "text/plain": [
       "   train cnt  train pct  test cnt  test pct\n",
       "0      67547   0.799827     16905  0.200173\n",
       "1      31957   0.800225      7978  0.199775\n",
       "2         90   0.849057        16  0.150943"
      ]
     },
     "execution_count": 5,
     "metadata": {},
     "output_type": "execute_result"
    }
   ],
   "source": [
    "# Check the proportion of strata within train / test sets.\n",
    "strt_prop, strt_cnt = pd.DataFrame(), strt.value_counts()\n",
    "strt_prop['train cnt'] = strt_train.value_counts()\n",
    "strt_prop['train pct'] = strt_prop['train cnt'].div(strt_cnt)\n",
    "strt_prop['test cnt'] = strt_test.value_counts()\n",
    "strt_prop['test pct'] = strt_prop['test cnt'].div(strt_cnt)\n",
    "strt_prop"
   ]
  },
  {
   "cell_type": "markdown",
   "metadata": {},
   "source": [
    "### Train / Test Split - Conclusions\n",
    "\n",
    "- Data is split fairly even between train and test sets. Strata and target proportions follow split ratio as well.\n",
    "- A 80/20 ratio will be used."
   ]
  },
  {
   "cell_type": "markdown",
   "metadata": {},
   "source": [
    "### Number of Estimators\n",
    "\n",
    "Remember that we previously concluded that the number of estimators is critical to cover all available data, given the effect of stratified undersampling.\n",
    "\n",
    "Remember that the strata proportions that will be used is: `strata_p = {0: 0.1, 1: 0.6, 2: 0.3}`."
   ]
  },
  {
   "cell_type": "code",
   "execution_count": 6,
   "metadata": {},
   "outputs": [],
   "source": [
    "# Get strata undersample proportions and counts\n",
    "strata_p = PF.strata_p\n",
    "n_vals = Tools.strat_undersample_counts(strt_train, strata_p, random_state)"
   ]
  },
  {
   "cell_type": "code",
   "execution_count": 7,
   "metadata": {},
   "outputs": [
    {
     "data": {
      "text/plain": [
       "277"
      ]
     },
     "execution_count": 7,
     "metadata": {},
     "output_type": "execute_result"
    }
   ],
   "source": [
    "# Compare for Strata 1\n",
    "t_vals = strt.value_counts()\n",
    "proxy_estimators = t_vals.loc[1] / n_vals[1]\n",
    "proxy_estimators = int(round(proxy_estimators, 0))\n",
    "proxy_estimators"
   ]
  },
  {
   "cell_type": "markdown",
   "metadata": {},
   "source": [
    "### Number of Estimators - Conclusions\n",
    "\n",
    "- When stratified undersampling, all values of Strata 2 will be kept in each subsample, Strata 0 and Strata 1 will be undersampled.\n",
    "- Strata 0 provides few to no valuable information since are full zero instances on base zero dense columns.\n",
    "- Strata 1 provide valuable information for ok target. This should be the main focus to estimate the number of predictors.\n",
    "- Because of the high imbalance in target variable, bootstraping should be avoided to guarantee that most original data is used.\n",
    "- The proxy estimator is the proportion between the number of Strata 1 elements in a subsample with all available ones.\n",
    "- The proxy estimator is approx 280 estimators (if all subsample where different)."
   ]
  },
  {
   "cell_type": "markdown",
   "metadata": {},
   "source": [
    "---\n",
    "## Ensemble Candidates"
   ]
  },
  {
   "cell_type": "code",
   "execution_count": 8,
   "metadata": {},
   "outputs": [],
   "source": [
    "# Create results variable where candidate results will be consolidated for further analysis\n",
    "results = {}"
   ]
  },
  {
   "cell_type": "markdown",
   "metadata": {},
   "source": [
    "### Bagging with Logistic Regression"
   ]
  },
  {
   "cell_type": "code",
   "execution_count": 9,
   "metadata": {},
   "outputs": [],
   "source": [
    "# Get preprocessed data and split\n",
    "data, X, y, strt = reset_data(num_transform=True)\n",
    "X_train, X_test, strt_train, strt_test = train_test_split(X, strt, test_size=.2, random_state=random_state)\n",
    "y_train, y_test = y[X_train.index], y[X_test.index]"
   ]
  },
  {
   "cell_type": "markdown",
   "metadata": {},
   "source": [
    "#### Candidate 1: Stratifed Undersampling per Estimator\n",
    "\n",
    "Ensemble Characteristics\n",
    "- All estimators will have a subsample based on stratified undersampling strategy.\n",
    "- The new target variable to use in training will be strata. **Multiclass (3 possible values) problem**.\n",
    "- Probability will be requested for threshold analysis.\n",
    "- Probability for Strata 0 and Strata 1 will be added into Target 0 (No Failure), Strata 2 will be Target 1 (Failure)\n",
    "\n",
    "\n",
    "Logistic Regression Characteristics\n",
    "- No hyperparamether limitations for now. We are evaluating best ensemble strategy for now."
   ]
  },
  {
   "cell_type": "code",
   "execution_count": 10,
   "metadata": {},
   "outputs": [],
   "source": [
    "# IMPORTANT: Set n_jobs according to available compute resources\n",
    "n_jobs = 10\n",
    "\n",
    "# Get Strata Proportions\n",
    "strata_p = PF.strata_p\n",
    "n_vals = Tools.strat_undersample_counts(strt_train, strata_p, random_state)\n",
    "\n",
    "# Function to build Candidate 1\n",
    "def candidate1(X_train, strt_train, strata_p, n_vals):\n",
    "    logreg = LogisticRegression(class_weight=strata_p)\n",
    "\n",
    "    bbagg = BalancedBaggingClassifier(base_estimator=logreg, sampling_strategy=n_vals,\n",
    "                                      n_estimators=proxy_estimators, bootstrap=False, n_jobs=n_jobs,\n",
    "                                      random_state=random_state)\n",
    "    bbagg.fit(X_train, strt_train)\n",
    "    return bbagg\n",
    "\n",
    "# Build Candidate 1 and get probabilities prediction for training data\n",
    "model1 = candidate1(X_train, strt_train, strata_p, n_vals)\n",
    "strt_proba1 = model1.predict_proba(X_train)\n",
    "\n",
    "# Transform strata probabilities to target probabilities\n",
    "y_proba1 = list(map(lambda v: [v[0] + v[1], v[2]], strt_proba1))\n",
    "\n",
    "# Consolidate results\n",
    "results[1] = {'name':'StrtBaggLog', 'y_proba': y_proba1}"
   ]
  },
  {
   "cell_type": "markdown",
   "metadata": {},
   "source": [
    "#### Candidate 2: Regular Undersampling per Estimator\n",
    "\n",
    "Ensemble Characteristics\n",
    "\n",
    "- All estimators will have a traditional undersampling strategy. \n",
    "- The proportion per sample will be 30% failure, 70% non failure.\n",
    "- The problem will remain as binary.\n",
    "- Probability will be requested for threshold analysis.\n",
    "\n",
    "\n",
    "Logistic Regression Characteristics\n",
    "- No hyperparamether limitations for now. We are evaluating best ensemble strategy for now."
   ]
  },
  {
   "cell_type": "code",
   "execution_count": 11,
   "metadata": {},
   "outputs": [],
   "source": [
    "# IMPORTANT: Set n_jobs according to available compute resources\n",
    "n_jobs = 10\n",
    "\n",
    "# Set Regular Undersample Target Rate\n",
    "p = 0.3\n",
    "r = p/(1-p)\n",
    "target_p = {0:1-p, 1:p}\n",
    "\n",
    "# Function to build Candidate 2\n",
    "def candidate2(X_train, y_train, target_p, r):\n",
    "    logreg = LogisticRegression(class_weight=target_p)\n",
    "\n",
    "    bbagg = BalancedBaggingClassifier(base_estimator=logreg, sampling_strategy=r,\n",
    "                                      n_estimators=proxy_estimators, bootstrap=False, n_jobs=n_jobs,\n",
    "                                      random_state=random_state)\n",
    "\n",
    "    bbagg.fit(X_train, y_train)\n",
    "    return bbagg\n",
    "\n",
    "# Build Candidate 2 and get probabilities prediction for training data\n",
    "model2 = candidate2(X_train, y_train, target_p, r)\n",
    "y_proba2 = model2.predict_proba(X_train)\n",
    "\n",
    "# Consolidate results\n",
    "results[2] = {'name':'UndBaggLog', 'y_proba': y_proba2}"
   ]
  },
  {
   "cell_type": "markdown",
   "metadata": {},
   "source": [
    "### Random Forest"
   ]
  },
  {
   "cell_type": "code",
   "execution_count": 12,
   "metadata": {},
   "outputs": [],
   "source": [
    "# Get preprocessed data (no numeric transformation needed) and split\n",
    "data, X, y, strt = reset_data(num_transform=False)\n",
    "X_train, X_test, strt_train, strt_test = train_test_split(X, strt, test_size=.2, random_state=random_state)\n",
    "y_train, y_test = y[X_train.index], y[X_test.index]"
   ]
  },
  {
   "cell_type": "markdown",
   "metadata": {},
   "source": [
    "#### Candidate 3: Stratifed Undersampling per Estimator\n",
    "Ensemble Characteristics\n",
    "\n",
    "- All estimators will have a subsample based on stratified undersampling strategy.\n",
    "- The new target variable to use in training will be strata. Multiclass (3 possible values) problem.\n",
    "- Probability will be requested for threshold analysis.\n",
    "- Probability for Strata 0 and Strata 1 will be added into Target 0 (No Failure), Strata 2 will be Target 1 (Failure)\n",
    "\n",
    "\n",
    "Decision Tree\n",
    "- No hyperparamether limitations for now. We are evaluating best ensemble strategy for now."
   ]
  },
  {
   "cell_type": "code",
   "execution_count": 13,
   "metadata": {},
   "outputs": [],
   "source": [
    "# IMPORTANT: Set n_jobs according to available compute resources\n",
    "n_jobs = 10\n",
    "\n",
    "# Get Strata Proportions\n",
    "strata_p = PF.strata_p\n",
    "n_vals = Tools.strat_undersample_counts(strt_train, strata_p, random_state)\n",
    "\n",
    "# Function to build Candidate 3\n",
    "def candidate3(X_train, strt_train, strata_p, n_vals):\n",
    "    brf = BalancedRandomForestClassifier(class_weight=strata_p, sampling_strategy=n_vals,\n",
    "                                        n_estimators=proxy_estimators, bootstrap=False, n_jobs=n_jobs,\n",
    "                                        random_state=random_state)\n",
    "\n",
    "    brf.fit(X_train, strt_train)\n",
    "    return brf\n",
    "\n",
    "# Build Candidate 3 and get probabilities prediction for training data\n",
    "model3 = candidate3(X_train, strt_train, strata_p, n_vals)\n",
    "strt_proba3 = model3.predict_proba(X_train)\n",
    "\n",
    "# Transform strata probabilities to target probabilities\n",
    "y_proba3 = list(map(lambda v: [v[0] + v[1], v[2]], strt_proba3))\n",
    "\n",
    "# Consolidate results\n",
    "results[3] = {'name':'StrtRandFor', 'y_proba': y_proba3}"
   ]
  },
  {
   "cell_type": "markdown",
   "metadata": {},
   "source": [
    "#### Candidate 4: Undersampling per Estimator\n",
    "Ensemble Characteristics\n",
    "\n",
    "- All estimators will have a traditional undersampling strategy. \n",
    "- The proportion per sample will be 30% failure, 70% non failure.\n",
    "- The problem will remain as binary.\n",
    "- Probability will be requested for threshold analysis.\n",
    "\n",
    "\n",
    "Decision Tree\n",
    "- No hyperparamether limitations for now. We are evaluating best ensemble strategy for now."
   ]
  },
  {
   "cell_type": "code",
   "execution_count": 14,
   "metadata": {},
   "outputs": [],
   "source": [
    "# IMPORTANT: Set n_jobs according to available compute resources\n",
    "n_jobs = 10\n",
    "\n",
    "# Set Regular Undersample Target Rate\n",
    "p = 0.3\n",
    "r = p/(1-p)\n",
    "target_p = {0:1-p, 1:p}\n",
    "\n",
    "# Function to build Candidate 4\n",
    "def candidate4(X_train, y_train, target_p, r):\n",
    "    brf = BalancedRandomForestClassifier(class_weight=target_p, sampling_strategy=r,\n",
    "                                        n_estimators=proxy_estimators, bootstrap=False, n_jobs=n_jobs,\n",
    "                                        random_state=random_state)\n",
    "                                    \n",
    "    brf.fit(X_train, y_train)\n",
    "    return brf\n",
    "\n",
    "# Build Candidate 4 and get probabilities prediction for training data\n",
    "model4 = candidate4(X_train, y_train, target_p, r)\n",
    "y_proba4 = model4.predict_proba(X_train)\n",
    "\n",
    "# Consolidate results\n",
    "results[4] = {'name':'UndRandFor', 'y_proba': y_proba4}"
   ]
  },
  {
   "cell_type": "markdown",
   "metadata": {},
   "source": [
    "### Bagging + Boosting"
   ]
  },
  {
   "cell_type": "code",
   "execution_count": 15,
   "metadata": {},
   "outputs": [],
   "source": [
    "# Get preprocessed data (no numeric transformation needed) and split\n",
    "data, X, y, strt = reset_data(num_transform=False)\n",
    "X_train, X_test, strt_train, strt_test = train_test_split(X, strt, test_size=.2, random_state=random_state)\n",
    "y_train, y_test = y[X_train.index], y[X_test.index]"
   ]
  },
  {
   "cell_type": "markdown",
   "metadata": {},
   "source": [
    "#### Candidate 5: Stratifed Undersampling per Estimator\n",
    "Ensemble Characteristics\n",
    "- All estimators will have a subsample based on stratified undersampling strategy.\n",
    "- The new target variable to use in training will be strata. Multiclass (3 possible values) problem.\n",
    "- Probability will be requested for threshold analysis.\n",
    "- Probability for Strata 0 and Strata 1 will be added into Target 0 (No Failure), Strata 2 will be Target 1 (Failure)\n",
    "\n",
    "\n",
    "AdaBoost\n",
    "- Decision Trees among Adaboost wont be limited to 1 level (stump)\n",
    "- Number of estimates within each Adaboost will be limited to 10 to avoy long training times.\n",
    "- No additional hyperparamether limitations for now. We are evaluating best ensemble strategy for now."
   ]
  },
  {
   "cell_type": "code",
   "execution_count": 16,
   "metadata": {},
   "outputs": [],
   "source": [
    "# IMPORTANT: Set n_jobs according to available compute resources\n",
    "n_jobs = 10\n",
    "\n",
    "# Get Strata Proportions\n",
    "strata_p = PF.strata_p\n",
    "n_vals = Tools.strat_undersample_counts(strt_train, strata_p, random_state)\n",
    "\n",
    "# Function to build Candidate 5\n",
    "def candidate5(X_train, strt_train, strata_p, n_vals):\n",
    "    tree = DecisionTreeClassifier(class_weight=strata_p)\n",
    "    \n",
    "    boost = AdaBoostClassifier(base_estimator=tree, n_estimators=10)\n",
    "\n",
    "    bbagg = BalancedBaggingClassifier(base_estimator=boost, sampling_strategy=n_vals,\n",
    "                                      n_estimators=proxy_estimators, bootstrap=False, n_jobs=n_jobs,\n",
    "                                      random_state=random_state)\n",
    "    bbagg.fit(X_train, strt_train)\n",
    "    return bbagg\n",
    "\n",
    "# Build Candidate 5 and get probabilities prediction for training data\n",
    "model5 = candidate5(X_train, strt_train, strata_p, n_vals)\n",
    "strt_proba5 = model5.predict_proba(X_train)\n",
    "\n",
    "# Transform strata probabilities to target probabilities\n",
    "y_proba5 = list(map(lambda v: [v[0] + v[1], v[2]], strt_proba5))\n",
    "\n",
    "# Consolidate results\n",
    "results[5] = {'name':'StrtBaggBst', 'y_proba': y_proba5}"
   ]
  },
  {
   "cell_type": "markdown",
   "metadata": {},
   "source": [
    "#### Candidate 6: Undersampling per Estimator\n",
    "Ensemble Characteristics\n",
    "\n",
    "- All estimators will have a traditional undersampling strategy. \n",
    "- The proportion per sample will be 30% failure, 70% non failure.\n",
    "- The problem will remain as binary.\n",
    "- Probability will be requested for threshold analysis.\n",
    "\n",
    "\n",
    "AdaBoost\n",
    "- Decision Trees among Adaboost wont be limited to 1 level (stump)\n",
    "- Number of estimates within each Adaboost will be limited to 10 to avoy long training times.\n",
    "- No additional hyperparamether limitations for now. We are evaluating best ensemble strategy for now."
   ]
  },
  {
   "cell_type": "code",
   "execution_count": 17,
   "metadata": {},
   "outputs": [],
   "source": [
    "# IMPORTANT: Set n_jobs according to available compute resources\n",
    "n_jobs = 10\n",
    "\n",
    "# Set Regular Undersample Target Rate\n",
    "p = 0.3\n",
    "r = p/(1-p)\n",
    "target_p = {0:1-p, 1:p}\n",
    "\n",
    "# Function to build Candidate 6\n",
    "def candidate6(X_train, y_train, target_p, r):\n",
    "    tree = DecisionTreeClassifier(class_weight=target_p)\n",
    "    \n",
    "    boost = AdaBoostClassifier(base_estimator=tree, n_estimators=10)\n",
    "\n",
    "    bbagg = BalancedBaggingClassifier(base_estimator=boost, sampling_strategy=r,\n",
    "                                      n_estimators=proxy_estimators, bootstrap=False, n_jobs=n_jobs,\n",
    "                                      random_state=random_state)\n",
    "    bbagg.fit(X_train, y_train)\n",
    "    \n",
    "    return bbagg\n",
    "\n",
    "# Build Candidate 6 and get probabilities prediction for training data\n",
    "model6 = candidate6(X_train, y_train, target_p, r)\n",
    "y_proba6 = model6.predict_proba(X_train)\n",
    "\n",
    "# Consolidate results\n",
    "results[6] = {'name':'UndBaggBst', 'y_proba': y_proba6}"
   ]
  },
  {
   "cell_type": "markdown",
   "metadata": {},
   "source": [
    "---\n",
    "## Result Analysis\n",
    "\n",
    "To calculate fairly all candidates, we will use a **0.95** threshold. As referenced previously, we will focus on F1, Precision, Recall and AUC scores. All this scores can help us highlight False Negative and False Positive effect on predictions.  \n",
    "\n",
    "Additionally we will get the confusion matrix per candidate on the specified threshold to get a detailed view of results obtained by each one of them."
   ]
  },
  {
   "cell_type": "code",
   "execution_count": 19,
   "metadata": {},
   "outputs": [],
   "source": [
    "# Define Threshold to compare model candidates.\n",
    "threshold = 0.95\n",
    "\n",
    "# Function to calculate Scores and Confusion Matrixes\n",
    "def get_scores(threshold, results):\n",
    "    conf_matrixes, scores = {}, []\n",
    "    for k, r in results.items(): \n",
    "        y_proba = r['y_proba']\n",
    "        y_pred = list(map(lambda v: 1 if v[1] >= threshold else 0, y_proba))\n",
    "        y_proba = [v[1] for v in y_proba]\n",
    "        \n",
    "        f1 = f1_score(y_train, y_pred)\n",
    "        recall = recall_score(y_train, y_pred)\n",
    "        precision = precision_score(y_train, y_pred)\n",
    "        auroc = roc_auc_score(y_train, y_proba)\n",
    "\n",
    "        conf_matrix = confusion_matrix(y_train, y_pred)\n",
    "        conf_matrix = pd.DataFrame(conf_matrix, index=y_train.unique(), columns=y_train.unique())\n",
    "\n",
    "        scores.append({'id':k, 'name': r['name'], 'F1-score': f1, 'Recall': recall, 'Precision': precision, 'AUROC':auroc})\n",
    "        conf_matrixes[k] = conf_matrix\n",
    "\n",
    "    scores = pd.DataFrame(scores).set_index('id')\n",
    "\n",
    "    return scores, conf_matrixes\n",
    "\n",
    "# Calculate Scores and Confusion Matrixes\n",
    "scores, conf_matrixes = get_scores(threshold, results)"
   ]
  },
  {
   "cell_type": "markdown",
   "metadata": {},
   "source": [
    "### Visualize Candidate Scores"
   ]
  },
  {
   "cell_type": "code",
   "execution_count": 20,
   "metadata": {},
   "outputs": [
    {
     "data": {
      "image/png": "[encoded data removed]",
      "text/plain": [
       "<Figure size 1440x360 with 1 Axes>"
      ]
     },
     "metadata": {
      "needs_background": "light"
     },
     "output_type": "display_data"
    }
   ],
   "source": [
    "# Visualize Scores per Candidate\n",
    "m_scores = scores.melt(id_vars=['name'], var_name='metric', value_name='score')\n",
    "sns.barplot(data=m_scores, x='name', y='score', hue='metric', ax=Viz.get_figure(1))\n",
    "plt.show()"
   ]
  },
  {
   "cell_type": "markdown",
   "metadata": {},
   "source": [
    "### Visualize Confusion Matrixes"
   ]
  },
  {
   "cell_type": "code",
   "execution_count": 21,
   "metadata": {},
   "outputs": [
    {
     "data": {
      "image/png": "[encoded data removed]",
      "text/plain": [
       "<Figure size 1440x720 with 12 Axes>"
      ]
     },
     "metadata": {
      "needs_background": "light"
     },
     "output_type": "display_data"
    }
   ],
   "source": [
    "# Visualize Confusion Matrixes\n",
    "Viz.change_default(per_row=3)\n",
    "ax = Viz.get_figure(6)\n",
    "\n",
    "for i, conf_matrix in conf_matrixes.items():\n",
    "    sns.heatmap(conf_matrix, vmin= 0, vmax=200, square=True, annot=True, fmt='d', ax=ax[i-1])\n",
    "    ax[i-1].set_title(results[i]['name'])\n",
    "\n",
    "plt.show()"
   ]
  },
  {
   "cell_type": "markdown",
   "metadata": {},
   "source": [
    "### Result Analysis - Conclusions\n",
    "- Threshold used is 95% of probability of failure. This will narrow predictions giving a best score for each ensemble.\n",
    "- No hyperparamether was tuned to evaluate ensemble strategy only.\n",
    "- Accuracy won´t be used as decision score. F1 Score will be used instead to get the best False Positive and False Negative ratio.\n",
    "- **Stratified Undersampling shows better results than Regular Undersampling**. This is true for all bagging strategies (no matter estimators' algorithm.)\n",
    "- Logistic Regression based models don't show good results in this run.\n",
    "- **Stratified Random Forest and Bagg + Boost models show best behaviour**. They ilustrate the **Recall / Precision tradeoff**.\n",
    "- Stratified Random Forest favors precision.\n",
    "- Stratifies Bagg + Boost favors recall.\n",
    "- Both models will be tuned, but from this point is important to better understand the impact of False Pasitives and False Negatives to better select a final model. This information is not yet available."
   ]
  }
 ],
 "metadata": {
  "kernelspec": {
   "display_name": "Python 3.7.4 64-bit ('python3-ds-learn': venv)",
   "language": "python",
   "name": "python37464bitpython3dslearnvenv6feb98fe22194ae68494bf2eebe2c2da"
  },
  "language_info": {
   "codemirror_mode": {
    "name": "ipython",
    "version": 3
   },
   "file_extension": ".py",
   "mimetype": "text/x-python",
   "name": "python",
   "nbconvert_exporter": "python",
   "pygments_lexer": "ipython3",
   "version": "3.7.4"
  }
 },
 "nbformat": 4,
 "nbformat_minor": 2
}
