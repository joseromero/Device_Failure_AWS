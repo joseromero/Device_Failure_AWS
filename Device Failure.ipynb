{
 "cells": [
  {
   "cell_type": "code",
   "execution_count": 196,
   "metadata": {
    "slideshow": {
     "slide_type": "-"
    }
   },
   "outputs": [],
   "source": [
    "# Import Required Libraries\n",
    "import pandas as pd\n",
    "import numpy as np\n",
    "import seaborn as sns\n",
    "import matplotlib.pyplot as plt"
   ]
  },
  {
   "cell_type": "code",
   "execution_count": 206,
   "metadata": {},
   "outputs": [],
   "source": [
    "# Pre configure modules\n",
    "sns.set_context(\"notebook\")"
   ]
  },
  {
   "cell_type": "code",
   "execution_count": 94,
   "metadata": {},
   "outputs": [
    {
     "data": {
      "text/html": [
       "<div>\n",
       "<style scoped>\n",
       "    .dataframe tbody tr th:only-of-type {\n",
       "        vertical-align: middle;\n",
       "    }\n",
       "\n",
       "    .dataframe tbody tr th {\n",
       "        vertical-align: top;\n",
       "    }\n",
       "\n",
       "    .dataframe thead th {\n",
       "        text-align: right;\n",
       "    }\n",
       "</style>\n",
       "<table border=\"1\" class=\"dataframe\">\n",
       "  <thead>\n",
       "    <tr style=\"text-align: right;\">\n",
       "      <th></th>\n",
       "      <th></th>\n",
       "      <th>m1</th>\n",
       "      <th>m2</th>\n",
       "      <th>m3</th>\n",
       "      <th>m4</th>\n",
       "      <th>m5</th>\n",
       "      <th>m6</th>\n",
       "      <th>m7</th>\n",
       "      <th>m8</th>\n",
       "      <th>m9</th>\n",
       "      <th>failure</th>\n",
       "    </tr>\n",
       "    <tr>\n",
       "      <th>device</th>\n",
       "      <th>date</th>\n",
       "      <th></th>\n",
       "      <th></th>\n",
       "      <th></th>\n",
       "      <th></th>\n",
       "      <th></th>\n",
       "      <th></th>\n",
       "      <th></th>\n",
       "      <th></th>\n",
       "      <th></th>\n",
       "      <th></th>\n",
       "    </tr>\n",
       "  </thead>\n",
       "  <tbody>\n",
       "    <tr>\n",
       "      <td>S1F01085</td>\n",
       "      <td>2015-01-01</td>\n",
       "      <td>215630672</td>\n",
       "      <td>56</td>\n",
       "      <td>0</td>\n",
       "      <td>52</td>\n",
       "      <td>6</td>\n",
       "      <td>407438</td>\n",
       "      <td>0</td>\n",
       "      <td>0</td>\n",
       "      <td>7</td>\n",
       "      <td>0</td>\n",
       "    </tr>\n",
       "    <tr>\n",
       "      <td>S1F0166B</td>\n",
       "      <td>2015-01-01</td>\n",
       "      <td>61370680</td>\n",
       "      <td>0</td>\n",
       "      <td>3</td>\n",
       "      <td>0</td>\n",
       "      <td>6</td>\n",
       "      <td>403174</td>\n",
       "      <td>0</td>\n",
       "      <td>0</td>\n",
       "      <td>0</td>\n",
       "      <td>0</td>\n",
       "    </tr>\n",
       "    <tr>\n",
       "      <td>S1F01E6Y</td>\n",
       "      <td>2015-01-01</td>\n",
       "      <td>173295968</td>\n",
       "      <td>0</td>\n",
       "      <td>0</td>\n",
       "      <td>0</td>\n",
       "      <td>12</td>\n",
       "      <td>237394</td>\n",
       "      <td>0</td>\n",
       "      <td>0</td>\n",
       "      <td>0</td>\n",
       "      <td>0</td>\n",
       "    </tr>\n",
       "    <tr>\n",
       "      <td>S1F01JE0</td>\n",
       "      <td>2015-01-01</td>\n",
       "      <td>79694024</td>\n",
       "      <td>0</td>\n",
       "      <td>0</td>\n",
       "      <td>0</td>\n",
       "      <td>6</td>\n",
       "      <td>410186</td>\n",
       "      <td>0</td>\n",
       "      <td>0</td>\n",
       "      <td>0</td>\n",
       "      <td>0</td>\n",
       "    </tr>\n",
       "    <tr>\n",
       "      <td>S1F01R2B</td>\n",
       "      <td>2015-01-01</td>\n",
       "      <td>135970480</td>\n",
       "      <td>0</td>\n",
       "      <td>0</td>\n",
       "      <td>0</td>\n",
       "      <td>15</td>\n",
       "      <td>313173</td>\n",
       "      <td>0</td>\n",
       "      <td>0</td>\n",
       "      <td>3</td>\n",
       "      <td>0</td>\n",
       "    </tr>\n",
       "  </tbody>\n",
       "</table>\n",
       "</div>"
      ],
      "text/plain": [
       "                            m1  m2  m3  m4  m5      m6  m7  m8  m9  failure\n",
       "device   date                                                              \n",
       "S1F01085 2015-01-01  215630672  56   0  52   6  407438   0   0   7        0\n",
       "S1F0166B 2015-01-01   61370680   0   3   0   6  403174   0   0   0        0\n",
       "S1F01E6Y 2015-01-01  173295968   0   0   0  12  237394   0   0   0        0\n",
       "S1F01JE0 2015-01-01   79694024   0   0   0   6  410186   0   0   0        0\n",
       "S1F01R2B 2015-01-01  135970480   0   0   0  15  313173   0   0   3        0"
      ]
     },
     "execution_count": 94,
     "metadata": {},
     "output_type": "execute_result"
    }
   ],
   "source": [
    "# Import data, remove duplicates and set index\n",
    "data = pd.read_csv('data/device_failure.csv', parse_dates=['date'], encoding='ISO-8859-1')\n",
    "data.drop_duplicates(inplace=True)\n",
    "data.set_index(['device', 'date'], inplace=True)\n",
    "\n",
    "# Rename / Reorder columns, asssign target and features\n",
    "data.columns = [c.replace('attribute', 'm') if c != 'failure' else c for c in data.columns]\n",
    "target_col =  'failure'\n",
    "feature_cols = sorted(list(set(data.columns) - set([target_col])))\n",
    "data = data[feature_cols + [target_col]]\n",
    "\n",
    "# Print head\n",
    "data.head()"
   ]
  },
  {
   "cell_type": "code",
   "execution_count": 324,
   "metadata": {},
   "outputs": [],
   "source": [
    "# Function to get outliers according to IQR or Z score.\n",
    "def get_outliers(d, method='IQR'):\n",
    "    if method == 'IQR':\n",
    "        q1, q3 = d.quantile(.25), d.quantile(.75)\n",
    "        iqr = q3 - q1\n",
    "        llim, ulim = q1 - (1.5 * iqr), q3 + (1.5 * iqr)\n",
    "    else:\n",
    "        mean, std = d.mean(), d.std()\n",
    "        llim, ulim = mean-(3*std), mean+(3*std)\n",
    "    \n",
    "    return (d < llim) | (d > ulim)\n",
    "\n",
    "# Function to plot deatiled view for a column    \n",
    "def detail_plot(d, outliers=True):\n",
    "    fig, axs = plt.subplots(2, 1, figsize=(20, 7), sharex=True, gridspec_kw={'height_ratios': [6, 1]})\n",
    "\n",
    "    sns.distplot(d, axlabel=False, ax=axs[0])\n",
    "    \n",
    "    if outliers:\n",
    "        mean, std = d.mean(), d.std()\n",
    "        llim, ulim = mean-(3*std), mean+(3*std)\n",
    "    \n",
    "        kde_x, kde_y = axs[0].lines[0].get_data()\n",
    "        p1, p2 = axs[0].axvline(x=llim,color='red'), axs[0].axvline(x=ulim,color='red')\n",
    "        axs[0].fill_between(kde_x, kde_y, where=(kde_x<llim) | (kde_x>ulim) , interpolate=True, color='#EF9A9A')\n",
    "\n",
    "    sns.boxplot(d, ax=axs[1])\n",
    "    plt.show()\n"
   ]
  },
  {
   "cell_type": "code",
   "execution_count": 330,
   "metadata": {},
   "outputs": [
    {
     "data": {
      "image/png": "[encoded data removed]",
      "text/plain": [
       "<Figure size 1440x504 with 2 Axes>"
      ]
     },
     "metadata": {},
     "output_type": "display_data"
    }
   ],
   "source": [
    "# Analize M5 Data\n",
    "m = data[['m5']]\n",
    "#detail_plot(m['m5'], outliers=False)\n",
    "\n",
    "# Log Transform column to remove skew\n",
    "m.insert(m.shape[1], 't5', np.log(m['m5']))\n",
    "detail_plot(m['t5'], outliers=True)\n",
    "\n",
    "# Mark outliers by IQR, Z score\n",
    "m.insert(m.shape[1], 'ol_iqr',get_outliers(m['t5'], method='IQR'))\n",
    "m.insert(m.shape[1], 'ol_z', get_outliers(m['t5'], method='Z'))\n",
    "\n",
    "# Summarize outlier counts\n",
    "ol_summary = pd.DataFrame([{'total': m.shape[0], 'z_count': m['ol_z'].sum(), 'iqr_count': m['ol_iqr'].sum()}])\n",
    "ol_summary['z_pct'] = ol_summary['z_count'].div(ol_summary['total'], 2).mul(100).round(2)\n",
    "ol_summary['iqr_pct'] = ol_summary['iqr_count'].div(ol_summary['total'], 2).mul(100).round(2)\n"
   ]
  },
  {
   "cell_type": "code",
   "execution_count": null,
   "metadata": {
    "collapsed": true
   },
   "outputs": [],
   "source": []
  },
  {
   "cell_type": "code",
   "execution_count": null,
   "metadata": {},
   "outputs": [],
   "source": []
  }
 ],
 "metadata": {
  "kernelspec": {
   "display_name": "Python 3.7.4 64-bit ('python3-ds': venv)",
   "language": "python",
   "name": "python37464bitpython3dsvenv38c465c19fc64539b639b9d334742bf1"
  },
  "language_info": {
   "codemirror_mode": {
    "name": "ipython",
    "version": 3
   },
   "file_extension": ".py",
   "mimetype": "text/x-python",
   "name": "python",
   "nbconvert_exporter": "python",
   "pygments_lexer": "ipython3",
   "version": "3.7.4"
  }
 },
 "nbformat": 4,
 "nbformat_minor": 2
}
